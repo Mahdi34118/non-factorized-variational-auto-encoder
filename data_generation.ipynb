{
 "cells": [
  {
   "cell_type": "code",
   "execution_count": 3,
   "id": "04459908",
   "metadata": {},
   "outputs": [],
   "source": [
    "import numpy as np \n",
    "\n",
    "import torch \n",
    "import torch.nn as nn\n",
    "# from sklearn.preprocessing import MinMaxScaler\n",
    "from matplotlib import pyplot as plt "
   ]
  },
  {
   "cell_type": "markdown",
   "id": "a318a56f",
   "metadata": {},
   "source": [
    "# Environments"
   ]
  },
  {
   "cell_type": "code",
   "execution_count": 125,
   "id": "a401a702",
   "metadata": {},
   "outputs": [
    {
     "data": {
      "text/plain": [
       "array([0.2, 2. , 3. , 5. ])"
      ]
     },
     "execution_count": 125,
     "metadata": {},
     "output_type": "execute_result"
    }
   ],
   "source": [
    "num_data_each_env = 1500\n",
    "E = np.array([0.4,0.6,0.8,1.1,1.5,1.8,2.3,2.8])\n",
    "E = np.array([0.2, 2, 3, 5])\n",
    "E"
   ]
  },
  {
   "cell_type": "markdown",
   "id": "f550a8cc",
   "metadata": {},
   "source": [
    "# ICARL Paper"
   ]
  },
  {
   "cell_type": "code",
   "execution_count": 126,
   "id": "9d1810ca",
   "metadata": {},
   "outputs": [],
   "source": [
    "class MLP(nn.Module):\n",
    "    def __init__(self, input_dim, hidden_dim, output_dim):\n",
    "        super(MLP, self).__init__()\n",
    "        self.fc1 = nn.Linear(input_dim,hidden_dim)\n",
    "        self.act1 = nn.ReLU()\n",
    "        self.fc2 = nn.Linear(hidden_dim,output_dim)\n",
    "    def forward(self, x):\n",
    "        y = self.fc1(x)\n",
    "        y = self.act1(y)\n",
    "        y = self.fc2(y)\n",
    "        return y"
   ]
  },
  {
   "cell_type": "code",
   "execution_count": 127,
   "id": "78110549",
   "metadata": {},
   "outputs": [],
   "source": [
    "def get_x_function(mode=\"mlp\"):\n",
    "    if mode==\"mlp\":\n",
    "        return MLP(2, 16, 10).to(torch.float64)\n",
    "    elif mode==\"identity\":\n",
    "        return lambda z: z\n",
    "\n",
    "non_linearity_type = \"neural_network\"\n",
    "\n",
    "# non_linearity = MLPClassifier(solver='lbfgs', alpha=1e-5,hidden_layer_sizes=(5, 2), random_state=1)"
   ]
  },
  {
   "cell_type": "code",
   "execution_count": 128,
   "id": "5e06cdb7",
   "metadata": {},
   "outputs": [],
   "source": [
    "S1 = list()\n",
    "S2 = list()\n",
    "Y = list()\n",
    "X = list()\n",
    "U = list()\n",
    "\n",
    "non_linearity = MLP(2, 12, 10).to(torch.float64)\n",
    "\n",
    "for e in E:\n",
    "    S1_env = np.random.normal(e, 1, num_data_each_env)\n",
    "    S2_env = np.random.normal(2*e, 2, num_data_each_env)\n",
    "\n",
    "    S1_env_t = torch.tensor(S1_env).unsqueeze(dim=1)\n",
    "    S2_env_t = torch.tensor(S2_env).unsqueeze(dim=1)\n",
    "\n",
    "    S1_S2_env_t = torch.cat([S1_env_t, S2_env_t], dim=1)\n",
    "    \n",
    "    Y_mu_env = S1_env + S2_env\n",
    "    \n",
    "    S1.append( S1_env )\n",
    "    S2.append( S2_env )\n",
    "    \n",
    "    Y.append( \n",
    "        np.random.normal( S1_env+S2_env, 1, num_data_each_env)\n",
    "    )\n",
    "    \n",
    "    X.append(\n",
    "        non_linearity(\n",
    "            S1_S2_env_t\n",
    "        ).detach().numpy()\n",
    "    )\n",
    "    \n",
    "    U.append(\n",
    "        e * np.ones(num_data_each_env)\n",
    "    )\n",
    "    \n",
    "#     X_env.append(\n",
    "#             non_linearity(\n",
    "#                 torch.\n",
    "#             )\n",
    "#     )\n",
    "    \n",
    "#     Y_env = list()\n",
    "#     X_env = list()\n",
    "#     for (z_1, z_2) in zip(Z1_env, Z2_env):\n",
    "#         Y_env.append(np.random.normal(z_1+z_2, 1, 1)[0]) \n",
    "#         _input = torch.tensor([[z_1, z_2]])\n",
    "#         X_env.append( non_linearity(_input)[0,:].detach().numpy() )\n",
    "    \n",
    "#     Z1.append(Z1_env)\n",
    "#     Z2.append(Z2_env)\n",
    "#     Y.append(Y_env)\n",
    "#     X.append(X_env)\n",
    "#     U.append([e]*num_data_each_env)\n",
    "\n",
    "S1 = np.array(Z1)[:, :, np.newaxis]\n",
    "S2 = np.array(Z2)[:, :, np.newaxis]\n",
    "S = np.concatenate([S1, S2], axis=2).squeeze()\n",
    "X = np.array(X)\n",
    "Y = np.array(Y)[:, :, np.newaxis]\n",
    "U = np.array(U)[:, :, np.newaxis]\n",
    "U = np.concatenate([U, Y], axis=2)"
   ]
  },
  {
   "cell_type": "code",
   "execution_count": 135,
   "id": "e115e926",
   "metadata": {},
   "outputs": [
    {
     "name": "stdout",
     "output_type": "stream",
     "text": [
      "mkdir: cannot create directory ‘icarl_data’: File exists\r\n"
     ]
    }
   ],
   "source": [
    "!mkdir \"icarl_data\"\n",
    "\n",
    "np.save(f\"./icarl_data/x.npy\", X)\n",
    "np.save(f\"./icarl_data/u.npy\", U)\n",
    "np.save(f\"./icarl_data/s.npy\", S)\n",
    "\n",
    "!cp \"./icarl_data/x.npy\" \"./run/datasets/x.npy\"\n",
    "!cp \"./icarl_data/u.npy\" \"./run/datasets/u.npy\"\n",
    "!cp \"./icarl_data/s.npy\" \"./run/datasets/s.npy\""
   ]
  },
  {
   "cell_type": "markdown",
   "id": "5eb7c694",
   "metadata": {},
   "source": [
    "# Load the Data with ICARL Data Loader"
   ]
  },
  {
   "cell_type": "code",
   "execution_count": 1,
   "id": "fccbc452",
   "metadata": {},
   "outputs": [
    {
     "data": {
      "text/plain": [
       "<module 'data' from '/home/mlcmadmin/ahedayat/causal_ivae/data/__init__.py'>"
      ]
     },
     "execution_count": 1,
     "metadata": {},
     "output_type": "execute_result"
    }
   ],
   "source": [
    "import data\n",
    "\n",
    "import importlib\n",
    "importlib.reload(data)"
   ]
  },
  {
   "cell_type": "code",
   "execution_count": 3,
   "id": "c3ea891a",
   "metadata": {},
   "outputs": [
    {
     "name": "stdout",
     "output_type": "stream",
     "text": [
      "X: (6000, 10)\n",
      "U: (6000, 2)\n",
      "S: (6000, 2)\n"
     ]
    }
   ],
   "source": [
    "dataset = data.ICARLDataset(\n",
    "    root=\"./run/datasets\", \n",
    "    data_postfix=\"\",\n",
    ")\n",
    "\n",
    "print(f\"X: {dataset.x.shape}\")\n",
    "print(f\"U: {dataset.u.shape}\")\n",
    "print(f\"S: {dataset.s.shape}\")"
   ]
  },
  {
   "cell_type": "code",
   "execution_count": 4,
   "id": "ece78d08",
   "metadata": {},
   "outputs": [],
   "source": [
    "x, u, s = dataset[1]"
   ]
  },
  {
   "cell_type": "code",
   "execution_count": 5,
   "id": "25847f5f",
   "metadata": {},
   "outputs": [
    {
     "data": {
      "text/plain": [
       "torch.Size([10])"
      ]
     },
     "execution_count": 5,
     "metadata": {},
     "output_type": "execute_result"
    }
   ],
   "source": [
    "x.shape"
   ]
  },
  {
   "cell_type": "code",
   "execution_count": 6,
   "id": "dd1b2ce4",
   "metadata": {},
   "outputs": [
    {
     "data": {
      "text/plain": [
       "torch.Size([2])"
      ]
     },
     "execution_count": 6,
     "metadata": {},
     "output_type": "execute_result"
    }
   ],
   "source": [
    "u.shape"
   ]
  },
  {
   "cell_type": "code",
   "execution_count": 8,
   "id": "3fb8930c",
   "metadata": {},
   "outputs": [
    {
     "data": {
      "text/plain": [
       "torch.Size([2])"
      ]
     },
     "execution_count": 8,
     "metadata": {},
     "output_type": "execute_result"
    }
   ],
   "source": [
    "s.shape"
   ]
  },
  {
   "cell_type": "markdown",
   "id": "55251ba6",
   "metadata": {},
   "source": [
    "# Non-Linear Data"
   ]
  },
  {
   "cell_type": "code",
   "execution_count": null,
   "id": "ff40b474",
   "metadata": {},
   "outputs": [],
   "source": [
    "num_data_each_env = 1500\n",
    "E = np.array([0.4,0.6,0.8,1.1,1.5,1.8,2.3,2.8])\n",
    "E = np.array([0.2, 2, 3, 5])\n",
    "E"
   ]
  },
  {
   "cell_type": "code",
   "execution_count": null,
   "id": "354fac38",
   "metadata": {},
   "outputs": [],
   "source": []
  },
  {
   "cell_type": "code",
   "execution_count": null,
   "id": "18974274",
   "metadata": {},
   "outputs": [],
   "source": []
  },
  {
   "cell_type": "code",
   "execution_count": null,
   "id": "a7128108",
   "metadata": {},
   "outputs": [],
   "source": []
  },
  {
   "cell_type": "markdown",
   "id": "5203024b",
   "metadata": {},
   "source": [
    "# Others"
   ]
  },
  {
   "cell_type": "code",
   "execution_count": 54,
   "id": "baf40ed7",
   "metadata": {},
   "outputs": [],
   "source": [
    "# scalerZ = MinMaxScaler()\n",
    "# scaler = MinMaxScaler()"
   ]
  },
  {
   "cell_type": "code",
   "execution_count": 55,
   "id": "8bfd4077",
   "metadata": {},
   "outputs": [],
   "source": [
    "Z1 = list()\n",
    "Z2 = list()\n",
    "Z3 = list()\n",
    "Z4 = list()\n",
    "Z5 = list()\n",
    "Y = list()\n",
    "# Y2 = list()\n",
    "X = list()\n",
    "U = list()\n",
    "\n",
    "non_linearity = MLP().to(torch.float64)\n",
    "\n",
    "for e in E:\n",
    "    Z1_env = np.random.normal(e, 1, num_data_each_env)\n",
    "    Z2_env = np.random.normal(2*e, 2, num_data_each_env)\n",
    "    \n",
    "    L13_env = np.random.uniform(1.2*e , 1.8*e)\n",
    "    L24_env = np.random.normal(1.5*e ,2.5*e)\n",
    "    L35_env = np.random.uniform(1.6*e , 2.6*e)\n",
    "    Ly5_env = np.random.uniform(1.2*e , 2.3*e)\n",
    "    Z3_env = np.random.normal(1.75*e, 1, num_data_each_env) + L13_env * Z1_env**2 + Z1_env\n",
    "    Z4_env = np.random.normal(1.2*e, 2, num_data_each_env) + L24_env * Z2_env**2 + Z2_env\n",
    "#     Z5_env = np.random.normal(4*e, 2, num_data_each_env) + L24_env * Z2_env**2\n",
    "\n",
    "    Z5_env = list()\n",
    "    Y_env = list()\n",
    "    X_env = list()\n",
    "    for (z_1, z_2 , z_3 , z_4) in zip(Z1_env, Z2_env ,Z3_env, Z4_env):\n",
    "        y_tmp = np.random.normal(z_4 + z_2 , 1, 1)[0]\n",
    "        Y_env.append(y_tmp) \n",
    "        z5_tmp = Ly5_env*y_tmp + L35_env*(z_3) + np.random.normal(0.2*e, 2, 1)[0]\n",
    "        _input = torch.tensor([[z_1, z_2,z_3 , z_4 , z5_tmp]])\n",
    "        X_env.append( non_linearity(_input)[0,:].detach().numpy() )\n",
    "        Z5_env.append(z5_tmp)\n",
    "    \n",
    "    Z1.append(Z1_env)\n",
    "    Z2.append(Z2_env)\n",
    "    Z3.append(Z1_env)\n",
    "    Z4.append(Z2_env)\n",
    "    Z5.append(Z5_env)\n",
    "    Y.append(Y_env)\n",
    "    X.append(X_env)\n",
    "    U.append([e]*num_data_each_env)\n",
    "\n",
    "Z1 = np.array(Z1)\n",
    "Z2 = np.array(Z2)\n",
    "Z3 = np.array(Z3)\n",
    "Z4 = np.array(Z4)\n",
    "Z5 = np.array(Z5)\n",
    "Y = np.array(Y)\n",
    "X = np.array(X)\n",
    "U = np.array(U)"
   ]
  },
  {
   "cell_type": "code",
   "execution_count": 211,
   "id": "fed2e453",
   "metadata": {},
   "outputs": [],
   "source": [
    "# Z1 = list()\n",
    "# Z2 = list()\n",
    "# Z3 = list()\n",
    "# Z4 = list()\n",
    "# Y = list()\n",
    "# X = list()\n",
    "# U = list()\n",
    "\n",
    "# non_linearity = MLP().to(torch.float64)\n",
    "\n",
    "# for e in E:\n",
    "#     Z1_env = np.random.normal(e, 1, num_data_each_env)\n",
    "#     Z2_env = np.random.normal(2*e, 2, num_data_each_env)\n",
    "#     L13_env = np.random.uniform(3.7*e , 8*e)\n",
    "#     L24_env = np.random.normal(2.5*e ,9*e)\n",
    "#     Z3_env = np.random.normal(3*e, 1, num_data_each_env) + L13_env * (Z1_env ** 2)\n",
    "#     Z4_env = np.random.normal(4*e, 2, num_data_each_env) + L24_env * (Z2_env ** 2)\n",
    "\n",
    "    \n",
    "#     Y_env = list()\n",
    "#     X_env = list()\n",
    "#     for (z_1, z_2 , z_3 , z_4) in zip(Z1_env, Z2_env ,Z3_env, Z4_env):\n",
    "#         Y_env.append(np.random.normal(z_1+z_2 , 1, 1)[0]) \n",
    "#         _input = torch.tensor([[z_1, z_2,z_3 , z_4]])\n",
    "#         X_env.append( non_linearity(_input)[0,:].detach().numpy() )\n",
    "    \n",
    "#     Z1.append(Z1_env)\n",
    "#     Z2.append(Z2_env)\n",
    "#     Z3.append(Z1_env)\n",
    "#     Z4.append(Z2_env)\n",
    "#     Y.append(Y_env)\n",
    "#     X.append(X_env)\n",
    "#     U.append([e]*num_data_each_env)\n",
    "\n",
    "# Z1 = np.array(Z1)\n",
    "# Z2 = np.array(Z2)\n",
    "# Z3 = np.array(Z3)\n",
    "# Z4 = np.array(Z4)\n",
    "# Y = np.array(Y)\n",
    "# X = np.array(X)\n",
    "# U = np.array(U)"
   ]
  },
  {
   "cell_type": "code",
   "execution_count": 210,
   "id": "2e39b0f2",
   "metadata": {},
   "outputs": [],
   "source": [
    "# X = np.concatenate([X[env, :, :] for env in range(X.shape[0])])\n",
    "# Y = np.concatenate([Y[env, :] for env in range(Y.shape[0])])\n",
    "# Y = Y[:, np.newaxis]\n",
    "\n",
    "# Z1 = np.concatenate([Z1[env, :] for env in range(Z1.shape[0])])\n",
    "# Z2 = np.concatenate([Z2[env, :] for env in range(Z2.shape[0])])\n",
    "\n",
    "# Z1 = Z1[:, np.newaxis]\n",
    "# Z2 = Z2[:, np.newaxis]\n",
    "# Z = np.concatenate([Z1, Z2], axis=1)\n",
    "\n",
    "# U = np.concatenate([U[env, :] for env in range(U.shape[0])])\n",
    "# U = U[:, np.newaxis]\n",
    "# U = np.concatenate([U, Y], axis=1)"
   ]
  },
  {
   "cell_type": "code",
   "execution_count": null,
   "id": "2eb6b512",
   "metadata": {},
   "outputs": [],
   "source": []
  },
  {
   "cell_type": "code",
   "execution_count": null,
   "id": "6e4ea1a2",
   "metadata": {},
   "outputs": [],
   "source": []
  },
  {
   "cell_type": "code",
   "execution_count": null,
   "id": "cad42119",
   "metadata": {},
   "outputs": [],
   "source": []
  },
  {
   "cell_type": "code",
   "execution_count": 56,
   "id": "745808d5",
   "metadata": {},
   "outputs": [],
   "source": [
    "X = np.concatenate([X[env, :, :] for env in range(X.shape[0])])\n",
    "Y = np.concatenate([Y[env, :] for env in range(Y.shape[0])])\n",
    "Y = Y[:, np.newaxis]\n",
    "\n",
    "Z1 = np.concatenate([Z1[env, :] for env in range(Z1.shape[0])])\n",
    "Z2 = np.concatenate([Z2[env, :] for env in range(Z2.shape[0])])\n",
    "Z3 = np.concatenate([Z3[env, :] for env in range(Z3.shape[0])])\n",
    "Z4 = np.concatenate([Z4[env, :] for env in range(Z4.shape[0])])\n",
    "Z5 = np.concatenate([Z5[env, :] for env in range(Z5.shape[0])])\n",
    "\n",
    "Z1 = Z1[:, np.newaxis]\n",
    "Z2 = Z2[:, np.newaxis]\n",
    "Z3= Z3[:, np.newaxis]\n",
    "Z4 = Z4[:, np.newaxis]\n",
    "Z5 = Z5[:, np.newaxis]\n",
    "Z = np.concatenate([Z1, Z2 , Z3 , Z4, Z5], axis=1)\n",
    "\n",
    "U = np.concatenate([U[env, :] for env in range(U.shape[0])])\n",
    "U = U[:, np.newaxis]\n",
    "U = np.concatenate([U, Y], axis=1)"
   ]
  },
  {
   "cell_type": "code",
   "execution_count": 57,
   "id": "68cd28e4",
   "metadata": {},
   "outputs": [
    {
     "data": {
      "text/plain": [
       "(12000, 2)"
      ]
     },
     "execution_count": 57,
     "metadata": {},
     "output_type": "execute_result"
    }
   ],
   "source": [
    "U.shape"
   ]
  },
  {
   "cell_type": "code",
   "execution_count": 58,
   "id": "f48ead9f",
   "metadata": {},
   "outputs": [
    {
     "data": {
      "text/plain": [
       "(12000, 5)"
      ]
     },
     "execution_count": 58,
     "metadata": {},
     "output_type": "execute_result"
    }
   ],
   "source": [
    "Z.shape"
   ]
  },
  {
   "cell_type": "code",
   "execution_count": 59,
   "id": "f462218d",
   "metadata": {},
   "outputs": [
    {
     "data": {
      "text/plain": [
       "(12000, 1)"
      ]
     },
     "execution_count": 59,
     "metadata": {},
     "output_type": "execute_result"
    }
   ],
   "source": [
    "Y.shape"
   ]
  },
  {
   "cell_type": "code",
   "execution_count": 60,
   "id": "68270762",
   "metadata": {},
   "outputs": [
    {
     "data": {
      "text/plain": [
       "(12000, 12)"
      ]
     },
     "execution_count": 60,
     "metadata": {},
     "output_type": "execute_result"
    }
   ],
   "source": [
    "X.shape"
   ]
  },
  {
   "cell_type": "code",
   "execution_count": 61,
   "id": "4364ea03",
   "metadata": {},
   "outputs": [
    {
     "data": {
      "image/png": "[encoded data removed]",
      "text/plain": [
       "<Figure size 432x288 with 1 Axes>"
      ]
     },
     "metadata": {
      "needs_background": "light"
     },
     "output_type": "display_data"
    }
   ],
   "source": [
    "# colors = [\"red\", \"blue\", \"yellow\", \"black\"]\n",
    "\n",
    "for ix, e in enumerate(E):\n",
    "    start_index = num_data_each_env*ix\n",
    "    end_index = num_data_each_env*(ix+1) - 1\n",
    "    plt.scatter(Z[start_index:end_index, 1], Z[start_index:end_index, 3])"
   ]
  },
  {
   "cell_type": "code",
   "execution_count": 62,
   "id": "c15fbfaa",
   "metadata": {},
   "outputs": [
    {
     "name": "stdout",
     "output_type": "stream",
     "text": [
      "checkpoints  datasets  datasets_synthetic_data\tivae_0_1.p  logs\r\n"
     ]
    }
   ],
   "source": [
    "!ls ./running_related_data"
   ]
  },
  {
   "cell_type": "code",
   "execution_count": 63,
   "id": "68998bc1",
   "metadata": {},
   "outputs": [
    {
     "name": "stdout",
     "output_type": "stream",
     "text": [
      "mkdir: cannot create directory ‘./run/synthetic_datasets’: File exists\r\n"
     ]
    }
   ],
   "source": [
    "dataset_path = \"./run/synthetic_datasets\"\n",
    "!mkdir $dataset_path"
   ]
  },
  {
   "cell_type": "code",
   "execution_count": 66,
   "id": "5c1c9bd0",
   "metadata": {},
   "outputs": [],
   "source": [
    "np.save(f\"{dataset_path}/x_nl_5node1.npy\", X)\n",
    "np.save(f\"{dataset_path}/y_nl_5node1.npy\", Y)\n",
    "np.save(f\"{dataset_path}/s_nl_5node1.npy\", Z)\n",
    "np.save(f\"{dataset_path}/u_nl_5node1.npy\", U)"
   ]
  },
  {
   "cell_type": "code",
   "execution_count": 65,
   "id": "4e6d1680",
   "metadata": {},
   "outputs": [
    {
     "data": {
      "text/plain": [
       "array([919.04687471])"
      ]
     },
     "execution_count": 65,
     "metadata": {},
     "output_type": "execute_result"
    }
   ],
   "source": [
    "max(Y)"
   ]
  },
  {
   "cell_type": "code",
   "execution_count": 150,
   "id": "93d127c8",
   "metadata": {},
   "outputs": [],
   "source": [
    "pairs = []\n",
    "for i in range(3):\n",
    "    other_features = [j for j in range(3) if j!=i]\n",
    "    \n",
    "    for j in other_features:\n",
    "        pairs.append((i,j))\n",
    "        \n",
    "    "
   ]
  },
  {
   "cell_type": "code",
   "execution_count": 172,
   "id": "e365a7bc",
   "metadata": {},
   "outputs": [],
   "source": [
    "pair = pairs[1]\n",
    "\n",
    "f1 = torch.Tensor(Z[:,pair[0]:pair[0]+1])\n",
    "f2 = torch.Tensor(Z[:,pair[1]:pair[1]+1])"
   ]
  },
  {
   "cell_type": "code",
   "execution_count": 178,
   "id": "48c8aab3",
   "metadata": {},
   "outputs": [],
   "source": [
    "index_f1 = torch.Tensor([pair[0] for i in range(f1.shape[0])])\n",
    "index_f1 = index_f1[:,None]\n",
    "index_f2 = torch.Tensor([pair[1] for i in range(f1.shape[0])])\n",
    "index_f2 = index_f2[:,None]\n",
    "zn = torch.cat((f1,f2,index_f1 , index_f2), 1)"
   ]
  },
  {
   "cell_type": "code",
   "execution_count": 179,
   "id": "1d280a9f",
   "metadata": {},
   "outputs": [
    {
     "data": {
      "text/plain": [
       "torch.Size([4000, 4])"
      ]
     },
     "execution_count": 179,
     "metadata": {},
     "output_type": "execute_result"
    }
   ],
   "source": [
    "zn.shape"
   ]
  },
  {
   "cell_type": "code",
   "execution_count": 177,
   "id": "dce8ae6e",
   "metadata": {},
   "outputs": [
    {
     "data": {
      "text/plain": [
       "torch.Size([4000, 1])"
      ]
     },
     "execution_count": 177,
     "metadata": {},
     "output_type": "execute_result"
    }
   ],
   "source": [
    "f1.shape"
   ]
  },
  {
   "cell_type": "code",
   "execution_count": 184,
   "id": "5f2035d3",
   "metadata": {},
   "outputs": [
    {
     "data": {
      "text/plain": [
       "(  name\n",
       " 0  ali,\n",
       "     name\n",
       " 0  mehdi)"
      ]
     },
     "execution_count": 184,
     "metadata": {},
     "output_type": "execute_result"
    }
   ],
   "source": [
    "import pandas as pd\n",
    "df1 = pd.DataFrame({\"name\": [\"ali\"]})\n",
    "df2 = pd.DataFrame({\"name\": [\"mehdi\"]})\n",
    "df1, df2"
   ]
  },
  {
   "cell_type": "code",
   "execution_count": 188,
   "id": "640990d5",
   "metadata": {},
   "outputs": [
    {
     "data": {
      "text/html": [
       "<div>\n",
       "<style scoped>\n",
       "    .dataframe tbody tr th:only-of-type {\n",
       "        vertical-align: middle;\n",
       "    }\n",
       "\n",
       "    .dataframe tbody tr th {\n",
       "        vertical-align: top;\n",
       "    }\n",
       "\n",
       "    .dataframe thead th {\n",
       "        text-align: right;\n",
       "    }\n",
       "</style>\n",
       "<table border=\"1\" class=\"dataframe\">\n",
       "  <thead>\n",
       "    <tr style=\"text-align: right;\">\n",
       "      <th></th>\n",
       "      <th>name</th>\n",
       "    </tr>\n",
       "  </thead>\n",
       "  <tbody>\n",
       "    <tr>\n",
       "      <th>0</th>\n",
       "      <td>ali</td>\n",
       "    </tr>\n",
       "    <tr>\n",
       "      <th>0</th>\n",
       "      <td>mehdi</td>\n",
       "    </tr>\n",
       "    <tr>\n",
       "      <th>0</th>\n",
       "      <td>mehdi</td>\n",
       "    </tr>\n",
       "    <tr>\n",
       "      <th>0</th>\n",
       "      <td>mehdi</td>\n",
       "    </tr>\n",
       "  </tbody>\n",
       "</table>\n",
       "</div>"
      ],
      "text/plain": [
       "    name\n",
       "0    ali\n",
       "0  mehdi\n",
       "0  mehdi\n",
       "0  mehdi"
      ]
     },
     "execution_count": 188,
     "metadata": {},
     "output_type": "execute_result"
    }
   ],
   "source": [
    "df1 =pd.concat([df1, df2])\n",
    "df1"
   ]
  },
  {
   "cell_type": "code",
   "execution_count": 219,
   "id": "3e78c37e",
   "metadata": {},
   "outputs": [],
   "source": [
    "from models import cleanIVAE, cleanVAE, Discriminator, MLP, CIVAE, permute_dims\n",
    "def get_model(data_dim, env_dim, latent_dim, config):\n",
    "\n",
    "    # Data Encoder\n",
    "    data_encoder = MLP(\n",
    "        input_dim = data_dim,\n",
    "        output_dim = config.data_enc_output_dim,\n",
    "        hidden_dim = config.data_enc_hidden_dim,\n",
    "        n_layers = config.data_enc_n_layers,\n",
    "        activation = config.data_enc_activation,\n",
    "        slope = config.data_enc_slope\n",
    "    ).to(torch.float64).to(config.device)\n",
    "    \n",
    "    # Environment Encoder\n",
    "    env_encoder = MLP(\n",
    "        input_dim = env_dim,\n",
    "        output_dim = config.env_enc_output_dim,\n",
    "        hidden_dim = config.env_enc_hidden_dim,\n",
    "        n_layers = config.env_enc_n_layers,\n",
    "        activation = config.env_enc_activation,\n",
    "        slope = config.env_enc_slope\n",
    "    ).to(torch.float64).to(config.device)\n",
    "\n",
    "    # Linear Prior \n",
    "    linear_prior = MLP(\n",
    "        input_dim = config.data_enc_output_dim,\n",
    "        output_dim = config.data_enc_output_dim,\n",
    "        hidden_dim = config.linear_prior_hidden_dim,\n",
    "        n_layers = config.linear_prior_n_layers,\n",
    "        activation = config.linear_prior_activation,\n",
    "        slope = config.linear_prior_slope\n",
    "    ).to(torch.float64).to(config.device)\n",
    "\n",
    "    # Linear Prior's Environment Encoder \n",
    "    env_encoder_linear_prior = MLP(\n",
    "        input_dim = env_dim,\n",
    "        output_dim = config.data_enc_output_dim,\n",
    "        hidden_dim = config.env_encoder_linear_prior_hidden_dim,\n",
    "        n_layers = config.env_encoder_linear_prior_n_layers,\n",
    "        activation = config.env_encoder_linear_prior_activation,\n",
    "        slope = config.env_encoder_linear_prior_slope\n",
    "    ).to(torch.float64).to(config.device)\n",
    "\n",
    "    # Non-Linear Prior \n",
    "    non_linear_prior = MLP(\n",
    "        input_dim = config.data_enc_output_dim,\n",
    "        output_dim = config.data_enc_output_dim,\n",
    "        hidden_dim = config.non_linear_prior_hidden_dim,\n",
    "        n_layers = config.non_linear_prior_n_layers,\n",
    "        activation = config.non_linear_prior_activation,\n",
    "        slope = config.non_linear_prior_slope\n",
    "    ).to(torch.float64).to(config.device)\n",
    "\n",
    "    # Non-Linear Prior Environment Encoder \n",
    "    env_encoder_non_linear_prior = MLP(\n",
    "        input_dim = env_dim,\n",
    "        output_dim = config.data_enc_output_dim,\n",
    "        hidden_dim = config.env_encoder_non_linear_prior_hidden_dim,\n",
    "        n_layers = config.env_encoder_non_linear_prior_n_layers,\n",
    "        activation = config.env_encoder_non_linear_prior_activation,\n",
    "        slope = config.env_encoder_non_linear_prior_slope\n",
    "    ).to(torch.float64).to(config.device)\n",
    "\n",
    "    # Graph Weights\n",
    "    graph_weights = MLP(\n",
    "        input_dim = env_dim,\n",
    "        output_dim = latent_dim * (latent_dim - 1),\n",
    "        hidden_dim = config.graph_weights_hidden_dim,\n",
    "        n_layers = config.graph_weights_n_layers,\n",
    "        activation = config.graph_weights_activation,\n",
    "        slope = config.graph_weights_slope\n",
    "    ).to(torch.float64).to(config.device)\n",
    "\n",
    "    # Mutual Effects\n",
    "    mutual_effects = MLP(\n",
    "        input_dim = latent_dim,\n",
    "        # output_dim = latent_dim * (latent_dim - 1),\n",
    "        output_dim = 1,\n",
    "        hidden_dim = config.mutual_effects_hidden_dim,\n",
    "        n_layers = config.mutual_effects_n_layers,\n",
    "        activation = config.mutual_effects_activation,\n",
    "        slope = config.mutual_effects_slope\n",
    "    ).to(torch.float64).to(config.device)\n",
    "\n",
    "    # CIVAE model\n",
    "    civae = CIVAE(\n",
    "        data_encoder=data_encoder,\n",
    "        env_encoder=env_encoder,\n",
    "        latent_dim = latent_dim,\n",
    "        linear_prior_net = linear_prior,\n",
    "        env_encoder_linear_prior = env_encoder_linear_prior,\n",
    "        non_linear_prior_net = non_linear_prior,\n",
    "        env_encoder_non_linear_prior = env_encoder_non_linear_prior,\n",
    "        graph_weights_net = graph_weights,\n",
    "        mutual_effects_net = mutual_effects,\n",
    "        hidden_dim = config.civae_hidden_dim,\n",
    "        n_layers = config.civae_n_layers,\n",
    "        activation = config.civae_activation,\n",
    "        slope = config.civae_slope\n",
    "    ).to(torch.float64).to(config.device)\n",
    "\n",
    "    return civae"
   ]
  },
  {
   "cell_type": "code",
   "execution_count": 229,
   "id": "5bf73274",
   "metadata": {},
   "outputs": [
    {
     "data": {
      "text/plain": [
       "<torch._C.Generator at 0x7f1788db4130>"
      ]
     },
     "execution_count": 229,
     "metadata": {},
     "output_type": "execute_result"
    }
   ],
   "source": [
    "import argparse\n",
    "import yaml\n",
    "import os \n",
    "def dict2namespace(config):\n",
    "    namespace = argparse.Namespace()\n",
    "    for key, value in config.items():\n",
    "        if isinstance(value, dict):\n",
    "            new_value = dict2namespace(value)\n",
    "        else:\n",
    "            new_value = value\n",
    "        setattr(namespace, key, new_value)\n",
    "    return namespace\n",
    "with open(os.path.join('./configs', \"civae.yaml\"), 'r') as f:\n",
    "    # print(args.config)\n",
    "    # print(r)\n",
    "    # import pdb;pdb.set_trace()  \n",
    "    config = yaml.load(f, Loader=yaml.FullLoader)\n",
    "\n",
    "config = dict2namespace(config)\n",
    "config.device = torch.device('cuda') if torch.cuda.is_available() else torch.device('cpu')\n",
    "# print(new_config)\n",
    "\n",
    "np.random.seed(0)\n",
    "torch.manual_seed(0)"
   ]
  },
  {
   "cell_type": "code",
   "execution_count": 230,
   "id": "21f9d808",
   "metadata": {},
   "outputs": [],
   "source": [
    "model = get_model(10, 2, 4, config)"
   ]
  },
  {
   "cell_type": "code",
   "execution_count": 261,
   "id": "10082f40",
   "metadata": {},
   "outputs": [
    {
     "name": "stdout",
     "output_type": "stream",
     "text": [
      "./run/datasets/u_nl.npy\r\n"
     ]
    }
   ],
   "source": [
    "!ls \"./run/datasets/u_nl.npy\""
   ]
  },
  {
   "cell_type": "code",
   "execution_count": 262,
   "id": "81c43033",
   "metadata": {},
   "outputs": [],
   "source": [
    "U = np.load(f\"./run/datasets/u_nl.npy\")\n",
    "U_torch = torch.tensor(U).to(\"cuda:0\")\n",
    "U_torch = U_torch[:10, :]\n",
    "weights = model.weight_matrix_2D(U_torch)"
   ]
  },
  {
   "cell_type": "code",
   "execution_count": 269,
   "id": "5df25cb9",
   "metadata": {},
   "outputs": [
    {
     "ename": "RuntimeError",
     "evalue": "Boolean value of Tensor with more than one value is ambiguous",
     "output_type": "error",
     "traceback": [
      "\u001b[0;31m---------------------------------------------------------------------------\u001b[0m",
      "\u001b[0;31mRuntimeError\u001b[0m                              Traceback (most recent call last)",
      "Cell \u001b[0;32mIn[269], line 6\u001b[0m\n\u001b[1;32m      4\u001b[0m \u001b[38;5;28;01mfor\u001b[39;00m i \u001b[38;5;129;01min\u001b[39;00m \u001b[38;5;28mrange\u001b[39m(weigths_processed\u001b[38;5;241m.\u001b[39mshape[\u001b[38;5;241m0\u001b[39m]):\n\u001b[1;32m      5\u001b[0m     \u001b[38;5;28;01mfor\u001b[39;00m j \u001b[38;5;129;01min\u001b[39;00m \u001b[38;5;28mrange\u001b[39m(weigths_processed\u001b[38;5;241m.\u001b[39mshape[\u001b[38;5;241m1\u001b[39m]):\n\u001b[0;32m----> 6\u001b[0m         \u001b[38;5;28;01mif\u001b[39;00m i\u001b[38;5;241m==\u001b[39mj \u001b[38;5;129;01mor\u001b[39;00m weigths_processed[j, i]\u001b[38;5;241m!=\u001b[39m\u001b[38;5;241m0\u001b[39m:\n\u001b[1;32m      7\u001b[0m             \u001b[38;5;28;01mcontinue\u001b[39;00m\n\u001b[1;32m      8\u001b[0m         \u001b[38;5;28;01mif\u001b[39;00m weights[i, j] \u001b[38;5;241m>\u001b[39m weights[j, i]:\n",
      "\u001b[0;31mRuntimeError\u001b[0m: Boolean value of Tensor with more than one value is ambiguous"
     ]
    }
   ],
   "source": [
    "weigths_processed = torch.zeros_like(weights)\n",
    "processed = [np.(weights)]\n",
    "\n",
    "for i in range(weigths_processed.shape[0]):\n",
    "    for j in range(weigths_processed.shape[1]):\n",
    "        if i==j or weigths_processed[j, i]!=0:\n",
    "            continue\n",
    "        if weights[i, j] > weights[j, i]:\n",
    "            weigths_processed[j, i] = 0\n",
    "        else:\n",
    "            weigths_processed[i, j] = 0"
   ]
  },
  {
   "cell_type": "code",
   "execution_count": null,
   "id": "06554a7d",
   "metadata": {},
   "outputs": [],
   "source": []
  },
  {
   "cell_type": "code",
   "execution_count": 263,
   "id": "6f098cfe",
   "metadata": {},
   "outputs": [
    {
     "name": "stdout",
     "output_type": "stream",
     "text": [
      "tensor([0.2000, 3.3563], device='cuda:0', dtype=torch.float64)\n"
     ]
    }
   ],
   "source": [
    "index = 0\n",
    "\n",
    "print(U_torch[index, :])"
   ]
  },
  {
   "cell_type": "code",
   "execution_count": 264,
   "id": "5b81f05d",
   "metadata": {},
   "outputs": [
    {
     "data": {
      "text/plain": [
       "tensor([[  0.0000, -94.4720,  33.0693, -79.5308],\n",
       "        [ 20.0107,   0.0000, -28.7187,  82.9653],\n",
       "        [  4.1322,  68.1637,   0.0000,  96.3725],\n",
       "        [-22.1382, -94.3256,  26.8252,   0.0000]], device='cuda:0',\n",
       "       dtype=torch.float64, grad_fn=<SliceBackward0>)"
      ]
     },
     "execution_count": 264,
     "metadata": {},
     "output_type": "execute_result"
    }
   ],
   "source": [
    "weights[index, :]"
   ]
  },
  {
   "cell_type": "code",
   "execution_count": 233,
   "id": "96825a55",
   "metadata": {},
   "outputs": [
    {
     "data": {
      "text/plain": [
       "((6000, 2), numpy.ndarray)"
      ]
     },
     "execution_count": 233,
     "metadata": {},
     "output_type": "execute_result"
    }
   ],
   "source": [
    "U.shape, type(U)"
   ]
  },
  {
   "cell_type": "code",
   "execution_count": null,
   "id": "af99708e",
   "metadata": {},
   "outputs": [],
   "source": []
  }
 ],
 "metadata": {
  "kernelspec": {
   "display_name": "Python 3 (ipykernel)",
   "language": "python",
   "name": "python3"
  },
  "language_info": {
   "codemirror_mode": {
    "name": "ipython",
    "version": 3
   },
   "file_extension": ".py",
   "mimetype": "text/x-python",
   "name": "python",
   "nbconvert_exporter": "python",
   "pygments_lexer": "ipython3",
   "version": "3.11.3"
  }
 },
 "nbformat": 4,
 "nbformat_minor": 5
}
